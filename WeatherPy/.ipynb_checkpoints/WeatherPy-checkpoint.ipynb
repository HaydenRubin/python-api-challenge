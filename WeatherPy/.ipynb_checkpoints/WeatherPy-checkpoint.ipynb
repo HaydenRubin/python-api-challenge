{
 "cells": [
  {
   "cell_type": "markdown",
   "metadata": {},
   "source": [
    "# Python API Homework - What's the Weather Like?\n",
    "\n",
    "## Background\n",
    "\n",
    "Whether financial, political, or social -- data's true power lies in its ability to answer questions definitively. So let's take what you've learned about Python requests, APIs, and JSON traversals to answer a fundamental question: \"What's the weather like as we approach the equator?\"\n",
    "\n",
    "Now, we know what you may be thinking: _\"Duh. It gets hotter...\"_\n",
    "\n",
    "But, if pressed, how would you **prove** it?\n",
    "\n",
    "![Equator](Images/equatorsign.png)\n",
    "\n",
    "### Before You Begin\n",
    "\n",
    "1. Create a new repository for this project called `python-api-challenge`. **Do not add this homework to an existing repository**.\n",
    "\n",
    "2. Clone the new repository to your computer.\n",
    "\n",
    "3. Inside your local git repository, create a directory for both of the  Python Challenges. Use folder names corresponding to the challenges: **WeatherPy**.\n",
    "\n",
    "4. Inside the folder that you just created, add new files called `WeatherPy.ipynb` and `VacationPy.ipynb`. These will be the main scripts to run for each analysis.\n",
    "\n",
    "5. Push the above changes to GitHub.\n",
    "\n",
    "## Part I - WeatherPy\n",
    "\n",
    "In this example, you'll be creating a Python script to visualize the weather of 500+ cities across the world of varying distance from the equator. To accomplish this, you'll be utilizing a [simple Python library](https://pypi.python.org/pypi/citipy), the [OpenWeatherMap API](https://openweathermap.org/api), and a little common sense to create a representative model of weather across world cities.\n",
    "\n",
    "Your first requirement is to create a series of scatter plots to showcase the following relationships:\n",
    "\n",
    "* Temperature (F) vs. Latitude\n",
    "* Humidity (%) vs. Latitude\n",
    "* Cloudiness (%) vs. Latitude\n",
    "* Wind Speed (mph) vs. Latitude\n",
    "\n",
    "After each plot add a sentence or too explaining what the code is and analyzing.\n",
    "\n",
    "Your second requirement is to run linear regression on each relationship, only this time separating them into Northern Hemisphere (greater than or equal to 0 degrees latitude) and Southern Hemisphere (less than 0 degrees latitude):\n",
    "\n",
    "* Northern Hemisphere - Temperature (F) vs. Latitude\n",
    "* Southern Hemisphere - Temperature (F) vs. Latitude\n",
    "* Northern Hemisphere - Humidity (%) vs. Latitude\n",
    "* Southern Hemisphere - Humidity (%) vs. Latitude\n",
    "* Northern Hemisphere - Cloudiness (%) vs. Latitude\n",
    "* Southern Hemisphere - Cloudiness (%) vs. Latitude\n",
    "* Northern Hemisphere - Wind Speed (mph) vs. Latitude\n",
    "* Southern Hemisphere - Wind Speed (mph) vs. Latitude\n",
    "\n",
    "After each pair of plots explain what the linear regression is modeling such as any relationships you notice and any other analysis you may have.\n",
    "\n",
    "**Optional** You will be creating multiple linear regression plots. To optimize your code, write a function that creates the linear regression plots.\n",
    "\n",
    "Your final notebook must:\n",
    "\n",
    "* Randomly select **at least** 500 unique (non-repeat) cities based on latitude and longitude.\n",
    "* Perform a weather check on each of the cities using a series of successive API calls.\n",
    "* Include a print log of each city as it's being processed with the city number and city name.\n",
    "* Save a CSV of all retrieved data and a PNG image for each scatter plot.\n",
    "\n",
    "## Hints and Considerations\n",
    "\n",
    "* The city data you generate is based on random coordinates as well as different query times; as such, your outputs will not be an exact match to the provided starter notebook.\n",
    "\n",
    "* You may want to start this assignment by refreshing yourself on the [geographic coordinate system](http://desktop.arcgis.com/en/arcmap/10.3/guide-books/map-projections/about-geographic-coordinate-systems.htm).\n",
    "\n",
    "* Next, spend the requisite time necessary to study the OpenWeatherMap API. Based on your initial study, you should be able to answer  basic questions about the API: Where do you request the API key? Which Weather API in particular will you need? What URL endpoints does it expect? What JSON structure does it respond with? Before you write a line of code, you should be aiming to have a crystal clear understanding of your intended outcome.\n",
    "\n",
    "* A starter code for Citipy has been provided. However, if you're craving an extra challenge, push yourself to learn how it works: [citipy Python library](https://pypi.python.org/pypi/citipy). Before you try to incorporate the library into your analysis, start by creating simple test cases outside your main script to confirm that you are using it correctly. Too often, when introduced to a new library, students get bogged down by the most minor of errors -- spending hours investigating their entire code -- when, in fact, a simple and focused test would have shown their basic utilization of the library was wrong from the start. Don't let this be you!\n",
    "\n",
    "* Part of our expectation in this challenge is that you will use critical thinking skills to understand how and why we're recommending the tools we are. What is Citipy for? Why would you use it in conjunction with the OpenWeatherMap API? How would you do so?\n",
    "\n",
    "* In building your script, pay attention to the cities you are using in your query pool. Are you getting coverage of the full gamut of latitudes and longitudes? Or are you simply choosing 500 cities concentrated in one region of the world? Even if you were a geographic genius, simply rattling 500 cities based on your human selection would create a biased dataset. Be thinking of how you should counter this. (Hint: Consider the full range of latitudes).\n",
    "\n",
    "* Once you have computed the linear regression for one chart, the process will be similar for all others. As a bonus, try to create a function that will create these charts based on different parameters.\n",
    "\n",
    "* Remember that each coordinate will trigger a separate call to the Google API. If you're creating your own criteria to plan your vacation, try to reduce the results in your DataFrame to 10 or fewer cities.\n",
    "\n",
    "* Lastly, remember -- this is a challenging activity. Push yourself! If you complete this task, then you can safely say that you've gained a strong mastery of the core foundations of data analytics and it will only go better from here. Good luck!\n",
    "\n",
    "### Copyright\n",
    "\n",
    "Trilogy Education Services © 2019. All Rights Reserved.\n"
   ]
  },
  {
   "cell_type": "markdown",
   "metadata": {},
   "source": [
    "# WeatherPy\n",
    "----\n",
    "\n",
    "#### Note\n",
    "* Instructions have been included for each segment. You do not have to follow them exactly, but they are included to help you think through the steps."
   ]
  },
  {
   "cell_type": "code",
   "execution_count": 1,
   "metadata": {},
   "outputs": [
    {
     "name": "stdout",
     "output_type": "stream",
     "text": [
      "Requirement already satisfied: citipy in /Users/haydenrubin/opt/anaconda3/envs/PythonData/lib/python3.6/site-packages (0.0.5)\r\n",
      "Requirement already satisfied: kdtree>=0.12 in /Users/haydenrubin/opt/anaconda3/envs/PythonData/lib/python3.6/site-packages (from citipy) (0.16)\r\n"
     ]
    }
   ],
   "source": [
    "import sys\n",
    "!{sys.executable} -m pip install citipy"
   ]
  },
  {
   "cell_type": "code",
   "execution_count": 2,
   "metadata": {
    "scrolled": true
   },
   "outputs": [],
   "source": [
    "# Dependencies and Setup\n",
    "import matplotlib.pyplot as plt\n",
    "import pandas as pd\n",
    "import numpy as np\n",
    "import requests\n",
    "import time\n",
    "from scipy.stats import linregress\n",
    "\n",
    "# Import API key\n",
    "from api_keys import weather_api_key\n",
    "\n",
    "# Incorporated citipy to determine city based on latitude and longitude\n",
    "from citipy import citipy\n",
    "\n",
    "# Output File (CSV)\n",
    "output_data_file = \"output_data/cities.csv\"\n",
    "\n",
    "# Range of latitudes and longitudes\n",
    "lat_range = (-90, 90)\n",
    "lng_range = (-180, 180)"
   ]
  },
  {
   "cell_type": "markdown",
   "metadata": {},
   "source": [
    "## Generate Cities List"
   ]
  },
  {
   "cell_type": "code",
   "execution_count": 3,
   "metadata": {},
   "outputs": [
    {
     "data": {
      "text/plain": [
       "622"
      ]
     },
     "execution_count": 3,
     "metadata": {},
     "output_type": "execute_result"
    }
   ],
   "source": [
    "# List for holding lat_lngs and cities\n",
    "lat_lngs = []\n",
    "cities = []\n",
    "\n",
    "# Create a set of random lat and lng combinations\n",
    "lats = np.random.uniform(lat_range[0], lat_range[1], size=1500)\n",
    "lngs = np.random.uniform(lng_range[0], lng_range[1], size=1500)\n",
    "lat_lngs = zip(lats, lngs)\n",
    "\n",
    "# Identify nearest city for each lat, lng combination\n",
    "for lat_lng in lat_lngs:\n",
    "    city = citipy.nearest_city(lat_lng[0], lat_lng[1]).city_name\n",
    "    \n",
    "    # If the city is unique, then add it to a our cities list\n",
    "    if city not in cities:\n",
    "        cities.append(city)\n",
    "\n",
    "# Print the city count to confirm sufficient count\n",
    "len(cities)"
   ]
  },
  {
   "cell_type": "markdown",
   "metadata": {},
   "source": [
    "### Perform API Calls\n",
    "* Perform a weather check on each city using a series of successive API calls.\n",
    "* Include a print log of each city as it'sbeing processed (with the city number and city name).\n"
   ]
  },
  {
   "cell_type": "code",
   "execution_count": 4,
   "metadata": {},
   "outputs": [
    {
     "name": "stdout",
     "output_type": "stream",
     "text": [
      "------------------------\n",
      "Beginning Data Retrieval\n",
      "------------------------\n",
      "Processing record 1 of set 1 | acarau\n",
      "Processing record 2 of set 1 | aguimes\n",
      "Processing record 3 of set 1 | qaanaaq\n",
      "Processing record 4 of set 1 | georgetown\n",
      "Processing record 5 of set 1 | iqaluit\n",
      "Processing record 6 of set 1 | hilo\n",
      "Processing record 7 of set 1 | bredasdorp\n",
      "Processing record 8 of set 1 | grand-santi\n",
      "Processing record 9 of set 1 | san andres\n",
      "Processing record 10 of set 1 | albany\n",
      "Processing record 11 of set 1 | atuona\n",
      "Processing record 12 of set 1 | gizo\n",
      "Processing record 13 of set 1 | saint-philippe\n",
      "Processing record 14 of set 1 | cidreira\n",
      "Processing record 15 of set 1 | nueva loja\n",
      "Processing record 16 of set 1 | puerto escondido\n",
      "Processing record 17 of set 1 | pisco\n",
      "Processing record 18 of set 1 | ponta do sol\n",
      "Processing record 19 of set 1 | puerto ayora\n",
      "Processing record 20 of set 1 | tuy hoa\n",
      "Processing record 21 of set 1 | butaritari\n",
      "Processing record 22 of set 1 | lebu\n",
      "Processing record 23 of set 1 | sinnamary\n",
      "Processing record 24 of set 1 | dinhata\n",
      "Processing record 25 of set 1 | ushuaia\n",
      "Processing record 26 of set 1 | villarrica\n",
      "Processing record 27 of set 1 | juneau\n",
      "Processing record 28 of set 1 | east london\n",
      "Processing record 29 of set 1 | clarence town\n",
      "Processing record 30 of set 1 | zhigansk\n",
      "Processing record 31 of set 1 | tuktoyaktuk\n",
      "Processing record 32 of set 1 | muisne\n",
      "Processing record 33 of set 1 | saleaula\n",
      "City not found. Skipping... \n",
      "Processing record 34 of set 1 | hobart\n",
      "Processing record 35 of set 1 | carnarvon\n",
      "Processing record 36 of set 1 | rikitea\n",
      "Processing record 37 of set 1 | honiara\n",
      "Processing record 38 of set 1 | scottsburgh\n",
      "City not found. Skipping... \n",
      "Processing record 39 of set 1 | bennettsville\n",
      "Processing record 40 of set 1 | ambilobe\n",
      "Processing record 41 of set 1 | inhambane\n",
      "Processing record 42 of set 1 | khatanga\n",
      "Processing record 43 of set 1 | boende\n",
      "Processing record 44 of set 1 | kapaa\n",
      "Processing record 45 of set 1 | koksovyy\n",
      "Processing record 46 of set 1 | coquimbo\n",
      "Processing record 47 of set 1 | cherskiy\n",
      "Processing record 48 of set 1 | bengkulu\n",
      "Processing record 49 of set 1 | muros\n",
      "Processing record 50 of set 1 | mataura\n",
      "Processing record 0 of set 2 | berlevag\n",
      "Processing record 1 of set 2 | lubbock\n",
      "Processing record 2 of set 2 | touros\n",
      "Processing record 3 of set 2 | port alfred\n",
      "Processing record 4 of set 2 | illoqqortoormiut\n",
      "City not found. Skipping... \n",
      "Processing record 5 of set 2 | taolanaro\n",
      "City not found. Skipping... \n",
      "Processing record 6 of set 2 | anzio\n",
      "Processing record 7 of set 2 | massena\n",
      "Processing record 8 of set 2 | samusu\n",
      "City not found. Skipping... \n",
      "Processing record 9 of set 2 | kodiak\n",
      "Processing record 10 of set 2 | cape town\n",
      "Processing record 11 of set 2 | chuy\n",
      "Processing record 12 of set 2 | killybegs\n",
      "Processing record 13 of set 2 | kloulklubed\n",
      "Processing record 14 of set 2 | rungata\n",
      "City not found. Skipping... \n",
      "Processing record 15 of set 2 | oranjemund\n",
      "Processing record 16 of set 2 | hobyo\n",
      "Processing record 17 of set 2 | avera\n",
      "Processing record 18 of set 2 | yenagoa\n",
      "Processing record 19 of set 2 | nemuro\n",
      "Processing record 20 of set 2 | severo-kurilsk\n",
      "Processing record 21 of set 2 | portland\n",
      "Processing record 22 of set 2 | la ronge\n",
      "Processing record 23 of set 2 | arraial do cabo\n",
      "Processing record 24 of set 2 | belushya guba\n",
      "City not found. Skipping... \n",
      "Processing record 25 of set 2 | busselton\n",
      "Processing record 26 of set 2 | tasiilaq\n",
      "Processing record 27 of set 2 | torbay\n",
      "Processing record 28 of set 2 | saint-pierre\n",
      "Processing record 29 of set 2 | halalo\n",
      "City not found. Skipping... \n",
      "Processing record 30 of set 2 | yarmouth\n",
      "Processing record 31 of set 2 | vardo\n",
      "Processing record 32 of set 2 | punta arenas\n",
      "Processing record 33 of set 2 | barrow\n",
      "Processing record 34 of set 2 | sao jose da coroa grande\n",
      "Processing record 35 of set 2 | colorado\n",
      "Processing record 36 of set 2 | nome\n",
      "Processing record 37 of set 2 | harper\n",
      "Processing record 38 of set 2 | lexington\n",
      "Processing record 39 of set 2 | severomuysk\n",
      "Processing record 40 of set 2 | broome\n",
      "Processing record 41 of set 2 | hermanus\n",
      "Processing record 42 of set 2 | nizhneyansk\n",
      "City not found. Skipping... \n",
      "Processing record 43 of set 2 | padang\n",
      "Processing record 44 of set 2 | san rafael\n",
      "Processing record 45 of set 2 | havelock\n",
      "Processing record 46 of set 2 | karaul\n",
      "City not found. Skipping... \n",
      "Processing record 47 of set 2 | ambulu\n",
      "Processing record 48 of set 2 | tezu\n",
      "Processing record 49 of set 2 | hay river\n",
      "Processing record 50 of set 2 | gamba\n",
      "Processing record 0 of set 3 | ambon\n",
      "Processing record 1 of set 3 | umzimvubu\n",
      "City not found. Skipping... \n",
      "Processing record 2 of set 3 | alice springs\n",
      "Processing record 3 of set 3 | barentsburg\n",
      "City not found. Skipping... \n",
      "Processing record 4 of set 3 | port-cartier\n",
      "Processing record 5 of set 3 | mendahara\n",
      "City not found. Skipping... \n",
      "Processing record 6 of set 3 | cozumel\n",
      "Processing record 7 of set 3 | esperance\n",
      "Processing record 8 of set 3 | moen\n",
      "Processing record 9 of set 3 | dinghai\n",
      "Processing record 10 of set 3 | fortuna\n",
      "Processing record 11 of set 3 | nikolskoye\n",
      "Processing record 12 of set 3 | sibolga\n",
      "Processing record 13 of set 3 | marsh harbour\n",
      "Processing record 14 of set 3 | chicama\n",
      "Processing record 15 of set 3 | bluff\n",
      "Processing record 16 of set 3 | ilulissat\n",
      "Processing record 17 of set 3 | vaini\n",
      "Processing record 18 of set 3 | strezhevoy\n",
      "Processing record 19 of set 3 | teguise\n",
      "Processing record 20 of set 3 | yellowknife\n",
      "Processing record 21 of set 3 | chifeng\n",
      "Processing record 22 of set 3 | fayaoue\n",
      "Processing record 23 of set 3 | provideniya\n",
      "Processing record 24 of set 3 | makakilo city\n",
      "Processing record 25 of set 3 | trairi\n",
      "Processing record 26 of set 3 | bilma\n",
      "Processing record 27 of set 3 | hazorasp\n",
      "Processing record 28 of set 3 | san cristobal\n",
      "Processing record 29 of set 3 | dudinka\n",
      "Processing record 30 of set 3 | rawson\n",
      "Processing record 31 of set 3 | lac du bonnet\n",
      "Processing record 32 of set 3 | lavrentiya\n",
      "Processing record 33 of set 3 | qasigiannguit\n",
      "Processing record 34 of set 3 | vitim\n",
      "Processing record 35 of set 3 | cumaribo\n",
      "City not found. Skipping... \n",
      "Processing record 36 of set 3 | vao\n",
      "Processing record 37 of set 3 | jamestown\n",
      "Processing record 38 of set 3 | naze\n",
      "Processing record 39 of set 3 | tongren\n",
      "Processing record 40 of set 3 | thompson\n",
      "Processing record 41 of set 3 | schwabmunchen\n",
      "Processing record 42 of set 3 | ipixuna\n",
      "Processing record 43 of set 3 | alofi\n",
      "Processing record 44 of set 3 | ahuimanu\n",
      "Processing record 45 of set 3 | cabo san lucas\n",
      "Processing record 46 of set 3 | aykhal\n",
      "Processing record 47 of set 3 | yar-sale\n",
      "Processing record 48 of set 3 | gbadolite\n",
      "Processing record 49 of set 3 | bambous virieux\n",
      "Processing record 50 of set 3 | uwayl\n",
      "City not found. Skipping... \n",
      "Processing record 0 of set 4 | camalu\n",
      "Processing record 1 of set 4 | hearst\n",
      "Processing record 2 of set 4 | banda\n",
      "Processing record 3 of set 4 | bulata\n",
      "Processing record 4 of set 4 | shellbrook\n",
      "Processing record 5 of set 4 | los llanos de aridane\n",
      "Processing record 6 of set 4 | washougal\n",
      "Processing record 7 of set 4 | aklavik\n",
      "Processing record 8 of set 4 | longyearbyen\n",
      "Processing record 9 of set 4 | tiksi\n",
      "Processing record 10 of set 4 | avarua\n",
      "Processing record 11 of set 4 | marcona\n",
      "City not found. Skipping... \n",
      "Processing record 12 of set 4 | jumla\n",
      "Processing record 13 of set 4 | weligama\n",
      "Processing record 14 of set 4 | mizdah\n",
      "Processing record 15 of set 4 | bonavista\n",
      "Processing record 16 of set 4 | ribeira brava\n",
      "Processing record 17 of set 4 | ponta delgada\n",
      "Processing record 18 of set 4 | pereslavl-zalesskiy\n",
      "Processing record 19 of set 4 | morondava\n",
      "Processing record 20 of set 4 | grindavik\n",
      "Processing record 21 of set 4 | dikson\n",
      "Processing record 22 of set 4 | mazagao\n",
      "Processing record 23 of set 4 | bethel\n",
      "Processing record 24 of set 4 | attawapiskat\n",
      "City not found. Skipping... \n",
      "Processing record 25 of set 4 | airai\n",
      "Processing record 26 of set 4 | mantua\n",
      "Processing record 27 of set 4 | agadir\n",
      "Processing record 28 of set 4 | labytnangi\n",
      "Processing record 29 of set 4 | saskylakh\n",
      "Processing record 30 of set 4 | tsihombe\n",
      "City not found. Skipping... \n",
      "Processing record 31 of set 4 | upernavik\n",
      "Processing record 32 of set 4 | kurumkan\n"
     ]
    },
    {
     "name": "stdout",
     "output_type": "stream",
     "text": [
      "Processing record 33 of set 4 | tayoltita\n",
      "Processing record 34 of set 4 | great bend\n",
      "Processing record 35 of set 4 | dekar\n",
      "Processing record 36 of set 4 | abong mbang\n",
      "Processing record 37 of set 4 | umm kaddadah\n",
      "Processing record 38 of set 4 | sawakin\n",
      "Processing record 39 of set 4 | manicore\n",
      "Processing record 40 of set 4 | elliot\n",
      "Processing record 41 of set 4 | cravo norte\n",
      "Processing record 42 of set 4 | sola\n",
      "Processing record 43 of set 4 | victoria\n",
      "Processing record 44 of set 4 | quelimane\n",
      "Processing record 45 of set 4 | vega de alatorre\n",
      "Processing record 46 of set 4 | talcahuano\n",
      "Processing record 47 of set 4 | mount gambier\n",
      "Processing record 48 of set 4 | salalah\n",
      "Processing record 49 of set 4 | grand river south east\n",
      "City not found. Skipping... \n",
      "Processing record 50 of set 4 | hervey bay\n",
      "Processing record 0 of set 5 | talnakh\n",
      "Processing record 1 of set 5 | nybro\n",
      "Processing record 2 of set 5 | nanortalik\n",
      "Processing record 3 of set 5 | mahebourg\n",
      "Processing record 4 of set 5 | ancud\n",
      "Processing record 5 of set 5 | panguna\n",
      "Processing record 6 of set 5 | libenge\n",
      "Processing record 7 of set 5 | palmer\n",
      "Processing record 8 of set 5 | volksrust\n",
      "Processing record 9 of set 5 | komsomolskiy\n",
      "Processing record 10 of set 5 | sembakung\n",
      "Processing record 11 of set 5 | buxton\n",
      "Processing record 12 of set 5 | faya\n",
      "Processing record 13 of set 5 | ostrovnoy\n",
      "Processing record 14 of set 5 | henties bay\n",
      "Processing record 15 of set 5 | san policarpo\n",
      "Processing record 16 of set 5 | orotukan\n",
      "Processing record 17 of set 5 | port hardy\n",
      "Processing record 18 of set 5 | utiroa\n",
      "City not found. Skipping... \n",
      "Processing record 19 of set 5 | bantou\n",
      "Processing record 20 of set 5 | angoche\n",
      "Processing record 21 of set 5 | konevo\n",
      "Processing record 22 of set 5 | vila franca do campo\n",
      "Processing record 23 of set 5 | akyab\n",
      "Processing record 24 of set 5 | new norfolk\n",
      "Processing record 25 of set 5 | cabrobo\n",
      "Processing record 26 of set 5 | sentyabrskiy\n",
      "City not found. Skipping... \n",
      "Processing record 27 of set 5 | blama\n",
      "Processing record 28 of set 5 | taoudenni\n",
      "Processing record 29 of set 5 | dergachi\n",
      "Processing record 30 of set 5 | bairiki\n",
      "Processing record 31 of set 5 | pimenteiras\n",
      "Processing record 32 of set 5 | fort dix\n",
      "Processing record 33 of set 5 | magole\n",
      "Processing record 34 of set 5 | castro\n",
      "Processing record 35 of set 5 | calvinia\n",
      "Processing record 36 of set 5 | alexandria\n",
      "Processing record 37 of set 5 | haines junction\n",
      "Processing record 38 of set 5 | vilhena\n",
      "Processing record 39 of set 5 | koping\n",
      "Processing record 40 of set 5 | babu\n",
      "Processing record 41 of set 5 | orangeburg\n",
      "Processing record 42 of set 5 | tumannyy\n",
      "City not found. Skipping... \n",
      "Processing record 43 of set 5 | abay\n",
      "Processing record 44 of set 5 | lakatoro\n",
      "Processing record 45 of set 5 | khandyga\n",
      "Processing record 46 of set 5 | nanakuli\n",
      "Processing record 47 of set 5 | kyabe\n",
      "Processing record 48 of set 5 | sunrise manor\n",
      "Processing record 49 of set 5 | wazzan\n",
      "City not found. Skipping... \n",
      "Processing record 50 of set 5 | bolonchen\n",
      "City not found. Skipping... \n",
      "Processing record 0 of set 6 | trincomalee\n",
      "Processing record 1 of set 6 | xai-xai\n",
      "Processing record 2 of set 6 | pevek\n",
      "Processing record 3 of set 6 | labuhan\n",
      "Processing record 4 of set 6 | hithadhoo\n",
      "Processing record 5 of set 6 | nouakchott\n",
      "Processing record 6 of set 6 | faanui\n",
      "Processing record 7 of set 6 | suntar\n",
      "Processing record 8 of set 6 | caravelas\n",
      "Processing record 9 of set 6 | beisfjord\n",
      "Processing record 10 of set 6 | atbasar\n",
      "Processing record 11 of set 6 | jinka\n",
      "Processing record 12 of set 6 | buariki\n",
      "City not found. Skipping... \n",
      "Processing record 13 of set 6 | kilindoni\n",
      "Processing record 14 of set 6 | ayagoz\n",
      "Processing record 15 of set 6 | atambua\n",
      "Processing record 16 of set 6 | tocopilla\n",
      "Processing record 17 of set 6 | egvekinot\n",
      "Processing record 18 of set 6 | chute-aux-outardes\n",
      "Processing record 19 of set 6 | hinton\n",
      "Processing record 20 of set 6 | currais novos\n",
      "Processing record 21 of set 6 | souillac\n",
      "Processing record 22 of set 6 | dingle\n",
      "Processing record 23 of set 6 | parian dakula\n",
      "Processing record 24 of set 6 | mar del plata\n",
      "Processing record 25 of set 6 | san quintin\n",
      "Processing record 26 of set 6 | mecca\n",
      "Processing record 27 of set 6 | mangrol\n",
      "Processing record 28 of set 6 | magistralnyy\n",
      "Processing record 29 of set 6 | pasighat\n",
      "Processing record 30 of set 6 | kavaratti\n",
      "Processing record 31 of set 6 | sao filipe\n",
      "Processing record 32 of set 6 | miyako\n",
      "Processing record 33 of set 6 | arman\n",
      "Processing record 34 of set 6 | kaitangata\n",
      "Processing record 35 of set 6 | lagoa\n",
      "Processing record 36 of set 6 | fulacunda\n",
      "City not found. Skipping... \n",
      "Processing record 37 of set 6 | alto araguaia\n",
      "Processing record 38 of set 6 | norman wells\n",
      "Processing record 39 of set 6 | jalu\n",
      "Processing record 40 of set 6 | savannah bight\n",
      "Processing record 41 of set 6 | kaka\n",
      "Processing record 42 of set 6 | kondinskoye\n",
      "Processing record 43 of set 6 | mount isa\n",
      "Processing record 44 of set 6 | katsuura\n",
      "Processing record 45 of set 6 | baltiysk\n",
      "Processing record 46 of set 6 | zyryanka\n",
      "Processing record 47 of set 6 | lasa\n",
      "Processing record 48 of set 6 | ust-nera\n",
      "Processing record 49 of set 6 | tanjong karang\n",
      "City not found. Skipping... \n",
      "Processing record 50 of set 6 | ternate\n",
      "Processing record 0 of set 7 | mildura\n",
      "Processing record 1 of set 7 | shepetivka\n",
      "Processing record 2 of set 7 | sao joao da barra\n",
      "Processing record 3 of set 7 | vaitupu\n",
      "City not found. Skipping... \n",
      "Processing record 4 of set 7 | tutoia\n",
      "Processing record 5 of set 7 | luderitz\n",
      "Processing record 6 of set 7 | chebsara\n",
      "Processing record 7 of set 7 | kontagora\n",
      "Processing record 8 of set 7 | tampa\n",
      "Processing record 9 of set 7 | sinnai\n",
      "Processing record 10 of set 7 | kysyl-syr\n",
      "Processing record 11 of set 7 | lompoc\n",
      "Processing record 12 of set 7 | pundaguitan\n",
      "Processing record 13 of set 7 | livani\n",
      "Processing record 14 of set 7 | goure\n",
      "Processing record 15 of set 7 | dong xoai\n",
      "Processing record 16 of set 7 | batticaloa\n",
      "Processing record 17 of set 7 | mogadishu\n",
      "Processing record 18 of set 7 | mareeba\n",
      "Processing record 19 of set 7 | ribeira grande\n",
      "Processing record 20 of set 7 | prainha\n",
      "Processing record 21 of set 7 | sayyan\n",
      "Processing record 22 of set 7 | sharan\n",
      "Processing record 23 of set 7 | mizan teferi\n",
      "Processing record 24 of set 7 | north myrtle beach\n",
      "Processing record 25 of set 7 | isangel\n",
      "Processing record 26 of set 7 | price\n",
      "Processing record 27 of set 7 | placido de castro\n",
      "Processing record 28 of set 7 | mys shmidta\n",
      "City not found. Skipping... \n",
      "Processing record 29 of set 7 | paranaiba\n",
      "Processing record 30 of set 7 | kailua\n",
      "Processing record 31 of set 7 | marrakesh\n",
      "Processing record 32 of set 7 | northam\n",
      "Processing record 33 of set 7 | kahului\n",
      "Processing record 34 of set 7 | tadine\n",
      "Processing record 35 of set 7 | thunder bay\n",
      "Processing record 36 of set 7 | samarai\n",
      "Processing record 37 of set 7 | harbour breton\n",
      "Processing record 38 of set 7 | vikulovo\n",
      "Processing record 39 of set 7 | goderich\n",
      "Processing record 40 of set 7 | tonantins\n",
      "Processing record 41 of set 7 | nishihara\n",
      "Processing record 42 of set 7 | thinadhoo\n",
      "Processing record 43 of set 7 | batan\n",
      "Processing record 44 of set 7 | kalianget\n",
      "Processing record 45 of set 7 | show low\n",
      "Processing record 46 of set 7 | awbari\n",
      "Processing record 47 of set 7 | kasongo-lunda\n",
      "Processing record 48 of set 7 | yulara\n",
      "Processing record 49 of set 7 | beberibe\n",
      "Processing record 50 of set 7 | maarianhamina\n",
      "Processing record 0 of set 8 | lesosibirsk\n",
      "Processing record 1 of set 8 | san juan\n",
      "Processing record 2 of set 8 | port blair\n",
      "Processing record 3 of set 8 | tungor\n",
      "Processing record 4 of set 8 | kyshtovka\n",
      "Processing record 5 of set 8 | methoni\n",
      "Processing record 6 of set 8 | tuatapere\n",
      "Processing record 7 of set 8 | safranbolu\n",
      "Processing record 8 of set 8 | yagodnoye\n",
      "Processing record 9 of set 8 | hasaki\n",
      "Processing record 10 of set 8 | saldanha\n",
      "Processing record 11 of set 8 | geraldton\n",
      "Processing record 12 of set 8 | deputatskiy\n",
      "Processing record 13 of set 8 | port shepstone\n",
      "Processing record 14 of set 8 | chokurdakh\n",
      "Processing record 15 of set 8 | hualmay\n",
      "Processing record 16 of set 8 | campo grande\n",
      "Processing record 17 of set 8 | bara\n",
      "Processing record 18 of set 8 | laukaa\n",
      "Processing record 19 of set 8 | katherine\n"
     ]
    },
    {
     "name": "stdout",
     "output_type": "stream",
     "text": [
      "Processing record 20 of set 8 | khash\n",
      "Processing record 21 of set 8 | the valley\n",
      "Processing record 22 of set 8 | byadgi\n",
      "Processing record 23 of set 8 | kudahuvadhoo\n",
      "Processing record 24 of set 8 | santa rosa\n",
      "Processing record 25 of set 8 | general roca\n",
      "Processing record 26 of set 8 | ahipara\n",
      "Processing record 27 of set 8 | kabalo\n",
      "Processing record 28 of set 8 | matara\n",
      "Processing record 29 of set 8 | virginia beach\n",
      "Processing record 30 of set 8 | waw\n",
      "Processing record 31 of set 8 | astana\n",
      "Processing record 32 of set 8 | rio gallegos\n",
      "Processing record 33 of set 8 | habiganj\n",
      "Processing record 34 of set 8 | chon buri\n",
      "Processing record 35 of set 8 | beloha\n",
      "Processing record 36 of set 8 | strelka\n",
      "Processing record 37 of set 8 | fort morgan\n",
      "Processing record 38 of set 8 | skala\n",
      "Processing record 39 of set 8 | mahibadhoo\n",
      "Processing record 40 of set 8 | sangar\n",
      "Processing record 41 of set 8 | sergiyev posad\n",
      "Processing record 42 of set 8 | kosovska mitrovica\n",
      "Processing record 43 of set 8 | nouadhibou\n",
      "Processing record 44 of set 8 | narsaq\n",
      "Processing record 45 of set 8 | flinders\n",
      "Processing record 46 of set 8 | san patricio\n",
      "Processing record 47 of set 8 | vila\n",
      "Processing record 48 of set 8 | pau brasil\n",
      "Processing record 49 of set 8 | mountain home\n",
      "Processing record 50 of set 8 | clyde river\n",
      "Processing record 0 of set 9 | malartic\n",
      "Processing record 1 of set 9 | port elizabeth\n",
      "Processing record 2 of set 9 | half moon bay\n",
      "Processing record 3 of set 9 | suzu\n",
      "City not found. Skipping... \n",
      "Processing record 4 of set 9 | namibe\n",
      "Processing record 5 of set 9 | khor\n",
      "Processing record 6 of set 9 | pudozh\n",
      "Processing record 7 of set 9 | calbuco\n",
      "Processing record 8 of set 9 | tignere\n",
      "Processing record 9 of set 9 | boromo\n",
      "Processing record 10 of set 9 | solnechnyy\n",
      "Processing record 11 of set 9 | khandbari\n",
      "Processing record 12 of set 9 | aksarka\n",
      "Processing record 13 of set 9 | kruisfontein\n",
      "Processing record 14 of set 9 | sochi\n",
      "Processing record 15 of set 9 | algeciras\n",
      "Processing record 16 of set 9 | matamoros\n",
      "Processing record 17 of set 9 | armacao dos buzios\n",
      "City not found. Skipping... \n",
      "Processing record 18 of set 9 | road town\n",
      "Processing record 19 of set 9 | olinda\n",
      "Processing record 20 of set 9 | thohoyandou\n",
      "Processing record 21 of set 9 | tashtagol\n",
      "Processing record 22 of set 9 | fort saint john\n",
      "City not found. Skipping... \n",
      "Processing record 23 of set 9 | erdenet\n",
      "Processing record 24 of set 9 | sakakah\n",
      "Processing record 25 of set 9 | lagoa santa\n",
      "Processing record 26 of set 9 | logan lake\n",
      "Processing record 27 of set 9 | roma\n",
      "Processing record 28 of set 9 | shiyan\n",
      "Processing record 29 of set 9 | minsk\n",
      "Processing record 30 of set 9 | el carmen\n",
      "Processing record 31 of set 9 | amga\n",
      "Processing record 32 of set 9 | ballaghaderreen\n",
      "Processing record 33 of set 9 | tabiauea\n",
      "City not found. Skipping... \n",
      "Processing record 34 of set 9 | atasu\n",
      "Processing record 35 of set 9 | tual\n",
      "Processing record 36 of set 9 | suez\n",
      "Processing record 37 of set 9 | krasnoselkup\n",
      "Processing record 38 of set 9 | saint george\n",
      "Processing record 39 of set 9 | manali\n",
      "Processing record 40 of set 9 | masvingo\n",
      "Processing record 41 of set 9 | bolungarvik\n",
      "City not found. Skipping... \n",
      "Processing record 42 of set 9 | batagay\n",
      "Processing record 43 of set 9 | wasilla\n",
      "Processing record 44 of set 9 | opole\n",
      "Processing record 45 of set 9 | moss vale\n",
      "Processing record 46 of set 9 | pringsewu\n",
      "Processing record 47 of set 9 | bontang\n",
      "Processing record 48 of set 9 | palabuhanratu\n",
      "City not found. Skipping... \n",
      "Processing record 49 of set 9 | kondagaon\n",
      "Processing record 50 of set 9 | sorland\n",
      "Processing record 0 of set 10 | khani\n",
      "Processing record 1 of set 10 | kununurra\n",
      "Processing record 2 of set 10 | vanimo\n",
      "Processing record 3 of set 10 | sovetskoye\n",
      "Processing record 4 of set 10 | mariental\n",
      "Processing record 5 of set 10 | tura\n",
      "Processing record 6 of set 10 | lata\n",
      "Processing record 7 of set 10 | zholymbet\n",
      "Processing record 8 of set 10 | hofn\n",
      "Processing record 9 of set 10 | suslovo\n",
      "Processing record 10 of set 10 | ilo\n",
      "Processing record 11 of set 10 | klaksvik\n",
      "Processing record 12 of set 10 | shirvan\n",
      "Processing record 13 of set 10 | new port richey\n",
      "Processing record 14 of set 10 | tabukiniberu\n",
      "City not found. Skipping... \n",
      "Processing record 15 of set 10 | yanan\n",
      "City not found. Skipping... \n",
      "Processing record 16 of set 10 | hamilton\n",
      "Processing record 17 of set 10 | shaunavon\n",
      "Processing record 18 of set 10 | kintampo\n",
      "Processing record 19 of set 10 | kanchanaburi\n",
      "Processing record 20 of set 10 | tecoanapa\n",
      "Processing record 21 of set 10 | wanning\n",
      "Processing record 22 of set 10 | chapais\n",
      "Processing record 23 of set 10 | birjand\n",
      "Processing record 24 of set 10 | xadani\n",
      "City not found. Skipping... \n",
      "Processing record 25 of set 10 | katsiveli\n",
      "City not found. Skipping... \n",
      "Processing record 26 of set 10 | zapolyarnyy\n",
      "Processing record 27 of set 10 | zhezkazgan\n",
      "Processing record 28 of set 10 | bandarbeyla\n",
      "Processing record 29 of set 10 | kosa\n",
      "Processing record 30 of set 10 | byron bay\n",
      "Processing record 31 of set 10 | tambacounda\n",
      "Processing record 32 of set 10 | staryy nadym\n",
      "Processing record 33 of set 10 | cervo\n",
      "Processing record 34 of set 10 | iralaya\n",
      "Processing record 35 of set 10 | felidhoo\n",
      "City not found. Skipping... \n",
      "Processing record 36 of set 10 | port augusta\n",
      "Processing record 37 of set 10 | nantucket\n",
      "Processing record 38 of set 10 | burica\n",
      "City not found. Skipping... \n",
      "Processing record 39 of set 10 | belyy yar\n",
      "Processing record 40 of set 10 | broken hill\n",
      "Processing record 41 of set 10 | guadalupe y calvo\n",
      "Processing record 42 of set 10 | coihaique\n",
      "Processing record 43 of set 10 | mayo\n",
      "Processing record 44 of set 10 | oneida\n",
      "Processing record 45 of set 10 | morganton\n",
      "Processing record 46 of set 10 | silifke\n",
      "Processing record 47 of set 10 | samalaeulu\n",
      "City not found. Skipping... \n",
      "Processing record 48 of set 10 | parana\n",
      "Processing record 49 of set 10 | guerrero negro\n",
      "Processing record 50 of set 10 | thap khlo\n",
      "Processing record 0 of set 11 | ormara\n",
      "Processing record 1 of set 11 | martinsville\n",
      "Processing record 2 of set 11 | raigarh\n",
      "Processing record 3 of set 11 | san vicente\n",
      "Processing record 4 of set 11 | andros town\n",
      "Processing record 5 of set 11 | sambava\n",
      "Processing record 6 of set 11 | rurrenabaque\n",
      "Processing record 7 of set 11 | isiolo\n",
      "Processing record 8 of set 11 | hihifo\n",
      "City not found. Skipping... \n",
      "Processing record 9 of set 11 | kirakira\n",
      "Processing record 10 of set 11 | pedernales\n",
      "Processing record 11 of set 11 | cabedelo\n",
      "Processing record 12 of set 11 | stokmarknes\n",
      "Processing record 13 of set 11 | yirol\n",
      "City not found. Skipping... \n",
      "Processing record 14 of set 11 | cap malheureux\n",
      "Processing record 15 of set 11 | codrington\n",
      "Processing record 16 of set 11 | arys\n",
      "Processing record 17 of set 11 | yuzhno-yeniseyskiy\n",
      "City not found. Skipping... \n",
      "Processing record 18 of set 11 | koster\n",
      "Processing record 19 of set 11 | pochutla\n",
      "Processing record 20 of set 11 | winsford\n",
      "Processing record 21 of set 11 | lupiro\n",
      "Processing record 22 of set 11 | bubaque\n",
      "Processing record 23 of set 11 | ati\n",
      "Processing record 24 of set 11 | te anau\n",
      "Processing record 25 of set 11 | matiri\n",
      "Processing record 26 of set 11 | ruatoria\n",
      "City not found. Skipping... \n",
      "Processing record 27 of set 11 | gombong\n",
      "Processing record 28 of set 11 | cockburn town\n",
      "Processing record 29 of set 11 | darab\n",
      "Processing record 30 of set 11 | pandamatenga\n",
      "Processing record 31 of set 11 | kalabo\n",
      "Processing record 32 of set 11 | amderma\n",
      "City not found. Skipping... \n",
      "Processing record 33 of set 11 | baishishan\n",
      "Processing record 34 of set 11 | meulaboh\n",
      "Processing record 35 of set 11 | wallacetown\n",
      "Processing record 36 of set 11 | damme\n",
      "Processing record 37 of set 11 | troitskoye\n",
      "Processing record 38 of set 11 | karauzyak\n",
      "City not found. Skipping... \n",
      "Processing record 39 of set 11 | tobermory\n",
      "Processing record 40 of set 11 | hovd\n",
      "Processing record 41 of set 11 | am timan\n",
      "Processing record 42 of set 11 | andros\n",
      "Processing record 43 of set 11 | kharan\n",
      "Processing record 44 of set 11 | dunedin\n",
      "Processing record 45 of set 11 | tabalosos\n",
      "Processing record 46 of set 11 | ust-maya\n",
      "Processing record 47 of set 11 | grand gaube\n",
      "Processing record 48 of set 11 | havre-saint-pierre\n",
      "Processing record 49 of set 11 | sao borja\n",
      "Processing record 50 of set 11 | demidov\n"
     ]
    },
    {
     "name": "stdout",
     "output_type": "stream",
     "text": [
      "Processing record 0 of set 12 | svetlyy\n",
      "Processing record 1 of set 12 | maceio\n",
      "Processing record 2 of set 12 | surt\n",
      "Processing record 3 of set 12 | kenai\n",
      "Processing record 4 of set 12 | coahuayana\n",
      "Processing record 5 of set 12 | kathmandu\n",
      "Processing record 6 of set 12 | mullaitivu\n",
      "City not found. Skipping... \n",
      "Processing record 7 of set 12 | north las vegas\n",
      "Processing record 8 of set 12 | nata\n",
      "Processing record 9 of set 12 | alanya\n",
      "Processing record 10 of set 12 | jimenez\n",
      "Processing record 11 of set 12 | praia da vitoria\n",
      "Processing record 12 of set 12 | balaipungut\n",
      "Processing record 13 of set 12 | wakkanai\n",
      "Processing record 14 of set 12 | bathsheba\n",
      "Processing record 15 of set 12 | bodri\n",
      "Processing record 16 of set 12 | zhigalovo\n",
      "Processing record 17 of set 12 | acurenam\n",
      "Processing record 18 of set 12 | kaili\n",
      "Processing record 19 of set 12 | pangkalanbuun\n",
      "Processing record 20 of set 12 | zaraza\n",
      "Processing record 21 of set 12 | fonte boa\n",
      "Processing record 22 of set 12 | riachao das neves\n",
      "Processing record 23 of set 12 | marzuq\n",
      "Processing record 24 of set 12 | zhangye\n",
      "Processing record 25 of set 12 | hurricane\n",
      "Processing record 26 of set 12 | kolokani\n",
      "Processing record 27 of set 12 | ilovka\n",
      "Processing record 28 of set 12 | lewiston\n",
      "Processing record 29 of set 12 | saint-francois\n",
      "Processing record 30 of set 12 | khormuj\n",
      "City not found. Skipping... \n",
      "Processing record 31 of set 12 | leninogorsk\n",
      "Processing record 32 of set 12 | port macquarie\n",
      "Processing record 33 of set 12 | obera\n",
      "Processing record 34 of set 12 | taltal\n",
      "Processing record 35 of set 12 | zilupe\n",
      "Processing record 36 of set 12 | shatalovo\n",
      "Processing record 37 of set 12 | luocheng\n",
      "Processing record 38 of set 12 | rafaela\n",
      "Processing record 39 of set 12 | shalya\n",
      "Processing record 40 of set 12 | jiexiu\n",
      "Processing record 41 of set 12 | todos santos\n",
      "Processing record 42 of set 12 | samana\n",
      "Processing record 43 of set 12 | souris\n",
      "Processing record 44 of set 12 | aromashevo\n",
      "Processing record 45 of set 12 | mani\n",
      "Processing record 46 of set 12 | dumbea\n",
      "Processing record 47 of set 12 | awjilah\n",
      "Processing record 48 of set 12 | moron\n",
      "Processing record 49 of set 12 | barstow\n",
      "Processing record 50 of set 12 | arkhangelsk\n",
      "Processing record 0 of set 13 | nizhniy tsasuchey\n",
      "Processing record 1 of set 13 | pontes e lacerda\n",
      "Processing record 2 of set 13 | jinchang\n",
      "Processing record 3 of set 13 | ambodifototra\n",
      "City not found. Skipping... \n",
      "Processing record 4 of set 13 | namatanai\n",
      "Processing record 5 of set 13 | bergama\n",
      "Processing record 6 of set 13 | leningradskiy\n",
      "Processing record 7 of set 13 | sitka\n",
      "Processing record 8 of set 13 | sergeyevka\n",
      "Processing record 9 of set 13 | lamu\n",
      "Processing record 10 of set 13 | pemberton\n",
      "-------------------------\n",
      "Data Retrieval Complete\n",
      "-------------------------\n"
     ]
    }
   ],
   "source": [
    "more_cities = []\n",
    "country = []\n",
    "latitude = []\n",
    "longitude = []\n",
    "date = []\n",
    "clouds = []\n",
    "humidity = []\n",
    "temperature = []\n",
    "wind = []\n",
    "\n",
    "counter = 0\n",
    "set_counter = 1\n",
    "\n",
    "url = \"http://api.openweathermap.org/data/2.5/weather?appid=\" + weather_api_key\n",
    "\n",
    "print('------------------------')\n",
    "print('Beginning Data Retrieval')\n",
    "print('------------------------')\n",
    "\n",
    "for city in cities:\n",
    "    query_url = url + \"&q=\" + city\n",
    "    # Get weather data\n",
    "    response = requests.get(query_url).json()\n",
    "    if counter < 50:\n",
    "        counter += 1\n",
    "    else:\n",
    "        set_counter += 1\n",
    "        counter = 0\n",
    "\n",
    "    print('Processing record {} of set {} | {}'.format(counter, set_counter, city))\n",
    "    try:\n",
    "        clouds.append(response['clouds']['all'])\n",
    "        country.append(response['sys']['country'])\n",
    "        date.append(response['dt'])\n",
    "        humidity.append(response['main']['humidity'])\n",
    "        temperature.append(response['main']['temp_max'])\n",
    "        latitude.append(response['coord']['lat'])\n",
    "        longitude.append(response['coord']['lon'])\n",
    "        wind.append(response['wind']['speed'])\n",
    "        more_cities.append(city)\n",
    "    except:\n",
    "        print(\"City not found. Skipping... \")\n",
    "        pass\n",
    "\n",
    "print('-------------------------')\n",
    "print('Data Retrieval Complete')\n",
    "print('-------------------------')"
   ]
  },
  {
   "cell_type": "markdown",
   "metadata": {},
   "source": [
    "### Convert Raw Data to DataFrame\n",
    "* Export the city data into a .csv.\n",
    "* Display the DataFrame"
   ]
  },
  {
   "cell_type": "code",
   "execution_count": 5,
   "metadata": {},
   "outputs": [],
   "source": [
    "weather_df = pd.DataFrame({\"City\": more_cities, \"Country\": country, \"Latitude\": latitude, \"Longitude\": longitude, \n",
    "                           \"Date\": date, \"Clouds\": clouds, \"Humidity\": humidity, \"Temperature\": temperature, \n",
    "                           \"Wind\": wind})\n",
    "weather_df.to_csv(r'weather_df.csv', index = False, header=True)"
   ]
  },
  {
   "cell_type": "code",
   "execution_count": 6,
   "metadata": {},
   "outputs": [
    {
     "data": {
      "text/html": [
       "<div>\n",
       "<style scoped>\n",
       "    .dataframe tbody tr th:only-of-type {\n",
       "        vertical-align: middle;\n",
       "    }\n",
       "\n",
       "    .dataframe tbody tr th {\n",
       "        vertical-align: top;\n",
       "    }\n",
       "\n",
       "    .dataframe thead th {\n",
       "        text-align: right;\n",
       "    }\n",
       "</style>\n",
       "<table border=\"1\" class=\"dataframe\">\n",
       "  <thead>\n",
       "    <tr style=\"text-align: right;\">\n",
       "      <th></th>\n",
       "      <th>City</th>\n",
       "      <th>Country</th>\n",
       "      <th>Latitude</th>\n",
       "      <th>Longitude</th>\n",
       "      <th>Date</th>\n",
       "      <th>Clouds</th>\n",
       "      <th>Humidity</th>\n",
       "      <th>Temperature</th>\n",
       "      <th>Wind</th>\n",
       "    </tr>\n",
       "  </thead>\n",
       "  <tbody>\n",
       "    <tr>\n",
       "      <th>0</th>\n",
       "      <td>acarau</td>\n",
       "      <td>BR</td>\n",
       "      <td>-2.89</td>\n",
       "      <td>-40.12</td>\n",
       "      <td>1595525364</td>\n",
       "      <td>38</td>\n",
       "      <td>60</td>\n",
       "      <td>302.68</td>\n",
       "      <td>7.93</td>\n",
       "    </tr>\n",
       "    <tr>\n",
       "      <th>1</th>\n",
       "      <td>aguimes</td>\n",
       "      <td>ES</td>\n",
       "      <td>27.91</td>\n",
       "      <td>-15.45</td>\n",
       "      <td>1595525364</td>\n",
       "      <td>20</td>\n",
       "      <td>65</td>\n",
       "      <td>299.15</td>\n",
       "      <td>14.40</td>\n",
       "    </tr>\n",
       "    <tr>\n",
       "      <th>2</th>\n",
       "      <td>qaanaaq</td>\n",
       "      <td>GL</td>\n",
       "      <td>77.48</td>\n",
       "      <td>-69.36</td>\n",
       "      <td>1595525365</td>\n",
       "      <td>0</td>\n",
       "      <td>51</td>\n",
       "      <td>282.62</td>\n",
       "      <td>0.73</td>\n",
       "    </tr>\n",
       "    <tr>\n",
       "      <th>3</th>\n",
       "      <td>georgetown</td>\n",
       "      <td>MY</td>\n",
       "      <td>5.41</td>\n",
       "      <td>100.34</td>\n",
       "      <td>1595525272</td>\n",
       "      <td>20</td>\n",
       "      <td>88</td>\n",
       "      <td>300.15</td>\n",
       "      <td>2.10</td>\n",
       "    </tr>\n",
       "    <tr>\n",
       "      <th>4</th>\n",
       "      <td>iqaluit</td>\n",
       "      <td>CA</td>\n",
       "      <td>63.75</td>\n",
       "      <td>-68.51</td>\n",
       "      <td>1595525365</td>\n",
       "      <td>90</td>\n",
       "      <td>81</td>\n",
       "      <td>282.15</td>\n",
       "      <td>1.50</td>\n",
       "    </tr>\n",
       "  </tbody>\n",
       "</table>\n",
       "</div>"
      ],
      "text/plain": [
       "         City Country  Latitude  Longitude        Date  Clouds  Humidity  \\\n",
       "0      acarau      BR     -2.89     -40.12  1595525364      38        60   \n",
       "1     aguimes      ES     27.91     -15.45  1595525364      20        65   \n",
       "2     qaanaaq      GL     77.48     -69.36  1595525365       0        51   \n",
       "3  georgetown      MY      5.41     100.34  1595525272      20        88   \n",
       "4     iqaluit      CA     63.75     -68.51  1595525365      90        81   \n",
       "\n",
       "   Temperature   Wind  \n",
       "0       302.68   7.93  \n",
       "1       299.15  14.40  \n",
       "2       282.62   0.73  \n",
       "3       300.15   2.10  \n",
       "4       282.15   1.50  "
      ]
     },
     "execution_count": 6,
     "metadata": {},
     "output_type": "execute_result"
    }
   ],
   "source": [
    "weather_df.head()"
   ]
  },
  {
   "cell_type": "markdown",
   "metadata": {},
   "source": [
    "## Inspect the data and remove the cities where the humidity > 100%.\n",
    "----\n",
    "Skip this step if there are no cities that have humidity > 100%. "
   ]
  },
  {
   "cell_type": "code",
   "execution_count": 7,
   "metadata": {},
   "outputs": [
    {
     "data": {
      "text/html": [
       "<div>\n",
       "<style scoped>\n",
       "    .dataframe tbody tr th:only-of-type {\n",
       "        vertical-align: middle;\n",
       "    }\n",
       "\n",
       "    .dataframe tbody tr th {\n",
       "        vertical-align: top;\n",
       "    }\n",
       "\n",
       "    .dataframe thead th {\n",
       "        text-align: right;\n",
       "    }\n",
       "</style>\n",
       "<table border=\"1\" class=\"dataframe\">\n",
       "  <thead>\n",
       "    <tr style=\"text-align: right;\">\n",
       "      <th></th>\n",
       "      <th>City</th>\n",
       "      <th>Country</th>\n",
       "      <th>Latitude</th>\n",
       "      <th>Longitude</th>\n",
       "      <th>Date</th>\n",
       "      <th>Clouds</th>\n",
       "      <th>Humidity</th>\n",
       "      <th>Temperature</th>\n",
       "      <th>Wind</th>\n",
       "    </tr>\n",
       "  </thead>\n",
       "  <tbody>\n",
       "  </tbody>\n",
       "</table>\n",
       "</div>"
      ],
      "text/plain": [
       "Empty DataFrame\n",
       "Columns: [City, Country, Latitude, Longitude, Date, Clouds, Humidity, Temperature, Wind]\n",
       "Index: []"
      ]
     },
     "execution_count": 7,
     "metadata": {},
     "output_type": "execute_result"
    }
   ],
   "source": [
    "#  Get the indices of cities that have humidity over 100%.\n",
    "\n",
    "hundredhumidity = weather_df.loc[weather_df[\"Humidity\"] > 100, :]\n",
    "\n",
    "hundredhumidity # no cities with humidity > 100%"
   ]
  },
  {
   "cell_type": "code",
   "execution_count": 6,
   "metadata": {},
   "outputs": [],
   "source": [
    "# Make a new DataFrame equal to the city data to drop all humidity outliers by index.\n",
    "# Passing \"inplace=False\" will make a copy of the city_data DataFrame, which we call \"clean_city_data\".\n"
   ]
  },
  {
   "cell_type": "code",
   "execution_count": 7,
   "metadata": {},
   "outputs": [],
   "source": [
    "# Extract relevant fields from the data frame\n",
    "\n",
    "\n",
    "# Export the City_Data into a csv\n"
   ]
  },
  {
   "cell_type": "markdown",
   "metadata": {},
   "source": [
    "## Plotting the Data\n",
    "* Use proper labeling of the plots using plot titles (including date of analysis) and axes labels.\n",
    "* Save the plotted figures as .pngs."
   ]
  },
  {
   "cell_type": "markdown",
   "metadata": {},
   "source": [
    "## Latitude vs. Temperature Plot"
   ]
  },
  {
   "cell_type": "code",
   "execution_count": 42,
   "metadata": {
    "scrolled": true
   },
   "outputs": [
    {
     "data": {
      "image/png": "[encoded data removed]",
      "text/plain": [
       "<Figure size 432x288 with 1 Axes>"
      ]
     },
     "metadata": {
      "needs_background": "light"
     },
     "output_type": "display_data"
    }
   ],
   "source": [
    "latitude = weather_df[\"Latitude\"]\n",
    "temperature = weather_df[\"Temperature\"]\n",
    "\n",
    "plt.scatter(latitude, temperature, marker=\"o\", facecolors=\"red\", edgecolors=\"black\")\n",
    "\n",
    "plt.title(\"Latitude vs. Temperature\")\n",
    "plt.xlabel(\"Latitude (degrees)\")\n",
    "plt.ylabel(\"Temperature (Kelvin)\")\n",
    "\n",
    "plt.xlim(-90,90)\n",
    "plt.ylim(260,325)\n",
    "\n",
    "plt.grid(True)"
   ]
  },
  {
   "cell_type": "markdown",
   "metadata": {},
   "source": [
    "## Latitude vs. Humidity Plot"
   ]
  },
  {
   "cell_type": "code",
   "execution_count": 9,
   "metadata": {},
   "outputs": [
    {
     "data": {
      "text/plain": [
       "Text(0, 0.5, 'Humidity (percent)')"
      ]
     },
     "execution_count": 9,
     "metadata": {},
     "output_type": "execute_result"
    },
    {
     "data": {
      "image/png": "[encoded data removed]",
      "text/plain": [
       "<Figure size 432x288 with 1 Axes>"
      ]
     },
     "metadata": {
      "needs_background": "light"
     },
     "output_type": "display_data"
    }
   ],
   "source": [
    "humidity = weather_df[\"Humidity\"]\n",
    "\n",
    "plt.scatter(latitude, humidity, marker = \"o\", facecolors = \"red\", edgecolors = \"black\")\n",
    "\n",
    "plt.title(\"Latitude vs. Humidity\")\n",
    "plt.xlabel(\"Latitude (degrees)\")\n",
    "plt.ylabel(\"Humidity (percent)\")\n",
    "\n",
    "plt.grid(True)"
   ]
  },
  {
   "cell_type": "markdown",
   "metadata": {},
   "source": [
    "## Latitude vs. Cloudiness Plot"
   ]
  },
  {
   "cell_type": "code",
   "execution_count": 10,
   "metadata": {},
   "outputs": [
    {
     "data": {
      "text/plain": [
       "Text(0, 0.5, 'Cloudiness (percent)')"
      ]
     },
     "execution_count": 10,
     "metadata": {},
     "output_type": "execute_result"
    },
    {
     "data": {
      "image/png": "[encoded data removed]",
      "text/plain": [
       "<Figure size 432x288 with 1 Axes>"
      ]
     },
     "metadata": {
      "needs_background": "light"
     },
     "output_type": "display_data"
    }
   ],
   "source": [
    "cloudiness = weather_df[\"Clouds\"]\n",
    "\n",
    "plt.scatter(latitude, cloudiness, marker = \"o\", facecolors = \"red\", edgecolors = \"black\")\n",
    "\n",
    "plt.title(\"Latitude vs. Cloudiness\")\n",
    "plt.xlabel(\"Latitude (degrees)\")\n",
    "plt.ylabel(\"Cloudiness (percent)\")\n",
    "\n",
    "plt.grid(True)"
   ]
  },
  {
   "cell_type": "markdown",
   "metadata": {},
   "source": [
    "## Latitude vs. Wind Speed Plot"
   ]
  },
  {
   "cell_type": "code",
   "execution_count": 11,
   "metadata": {},
   "outputs": [
    {
     "data": {
      "text/plain": [
       "Text(0, 0.5, 'Wind Speed (mph)')"
      ]
     },
     "execution_count": 11,
     "metadata": {},
     "output_type": "execute_result"
    },
    {
     "data": {
      "image/png": "[encoded data removed]",
      "text/plain": [
       "<Figure size 432x288 with 1 Axes>"
      ]
     },
     "metadata": {
      "needs_background": "light"
     },
     "output_type": "display_data"
    }
   ],
   "source": [
    "windspeed = weather_df[\"Wind\"]\n",
    "\n",
    "plt.scatter(latitude, windspeed, marker = \"o\", facecolors = \"red\", edgecolors = \"black\")\n",
    "\n",
    "plt.title(\"Latitude vs. Windspeed\")\n",
    "plt.xlabel(\"Latitude (degrees)\")\n",
    "plt.ylabel(\"Wind Speed (mph)\")\n",
    "\n",
    "plt.grid(True)"
   ]
  },
  {
   "cell_type": "markdown",
   "metadata": {},
   "source": [
    "## Linear Regression"
   ]
  },
  {
   "cell_type": "code",
   "execution_count": 8,
   "metadata": {},
   "outputs": [],
   "source": [
    "# OPTIONAL: Create a function to create Linear Regression plots"
   ]
  },
  {
   "cell_type": "code",
   "execution_count": 31,
   "metadata": {},
   "outputs": [
    {
     "data": {
      "text/html": [
       "<div>\n",
       "<style scoped>\n",
       "    .dataframe tbody tr th:only-of-type {\n",
       "        vertical-align: middle;\n",
       "    }\n",
       "\n",
       "    .dataframe tbody tr th {\n",
       "        vertical-align: top;\n",
       "    }\n",
       "\n",
       "    .dataframe thead th {\n",
       "        text-align: right;\n",
       "    }\n",
       "</style>\n",
       "<table border=\"1\" class=\"dataframe\">\n",
       "  <thead>\n",
       "    <tr style=\"text-align: right;\">\n",
       "      <th></th>\n",
       "      <th>City</th>\n",
       "      <th>Country</th>\n",
       "      <th>Latitude</th>\n",
       "      <th>Longitude</th>\n",
       "      <th>Date</th>\n",
       "      <th>Clouds</th>\n",
       "      <th>Humidity</th>\n",
       "      <th>Temperature</th>\n",
       "      <th>Wind</th>\n",
       "    </tr>\n",
       "  </thead>\n",
       "  <tbody>\n",
       "    <tr>\n",
       "      <th>1</th>\n",
       "      <td>aguimes</td>\n",
       "      <td>ES</td>\n",
       "      <td>27.91</td>\n",
       "      <td>-15.45</td>\n",
       "      <td>1595525364</td>\n",
       "      <td>20</td>\n",
       "      <td>65</td>\n",
       "      <td>299.15</td>\n",
       "      <td>14.40</td>\n",
       "    </tr>\n",
       "    <tr>\n",
       "      <th>2</th>\n",
       "      <td>qaanaaq</td>\n",
       "      <td>GL</td>\n",
       "      <td>77.48</td>\n",
       "      <td>-69.36</td>\n",
       "      <td>1595525365</td>\n",
       "      <td>0</td>\n",
       "      <td>51</td>\n",
       "      <td>282.62</td>\n",
       "      <td>0.73</td>\n",
       "    </tr>\n",
       "    <tr>\n",
       "      <th>3</th>\n",
       "      <td>georgetown</td>\n",
       "      <td>MY</td>\n",
       "      <td>5.41</td>\n",
       "      <td>100.34</td>\n",
       "      <td>1595525272</td>\n",
       "      <td>20</td>\n",
       "      <td>88</td>\n",
       "      <td>300.15</td>\n",
       "      <td>2.10</td>\n",
       "    </tr>\n",
       "    <tr>\n",
       "      <th>4</th>\n",
       "      <td>iqaluit</td>\n",
       "      <td>CA</td>\n",
       "      <td>63.75</td>\n",
       "      <td>-68.51</td>\n",
       "      <td>1595525365</td>\n",
       "      <td>90</td>\n",
       "      <td>81</td>\n",
       "      <td>282.15</td>\n",
       "      <td>1.50</td>\n",
       "    </tr>\n",
       "    <tr>\n",
       "      <th>5</th>\n",
       "      <td>hilo</td>\n",
       "      <td>US</td>\n",
       "      <td>19.73</td>\n",
       "      <td>-155.09</td>\n",
       "      <td>1595525365</td>\n",
       "      <td>90</td>\n",
       "      <td>78</td>\n",
       "      <td>296.15</td>\n",
       "      <td>1.38</td>\n",
       "    </tr>\n",
       "  </tbody>\n",
       "</table>\n",
       "</div>"
      ],
      "text/plain": [
       "         City Country  Latitude  Longitude        Date  Clouds  Humidity  \\\n",
       "1     aguimes      ES     27.91     -15.45  1595525364      20        65   \n",
       "2     qaanaaq      GL     77.48     -69.36  1595525365       0        51   \n",
       "3  georgetown      MY      5.41     100.34  1595525272      20        88   \n",
       "4     iqaluit      CA     63.75     -68.51  1595525365      90        81   \n",
       "5        hilo      US     19.73    -155.09  1595525365      90        78   \n",
       "\n",
       "   Temperature   Wind  \n",
       "1       299.15  14.40  \n",
       "2       282.62   0.73  \n",
       "3       300.15   2.10  \n",
       "4       282.15   1.50  \n",
       "5       296.15   1.38  "
      ]
     },
     "execution_count": 31,
     "metadata": {},
     "output_type": "execute_result"
    }
   ],
   "source": [
    "# Create Northern and Southern Hemisphere DataFrames"
   ]
  },
  {
   "cell_type": "markdown",
   "metadata": {},
   "source": [
    "####  Northern Hemisphere - Max Temp vs. Latitude Linear Regression"
   ]
  },
  {
   "cell_type": "code",
   "execution_count": 47,
   "metadata": {},
   "outputs": [
    {
     "name": "stdout",
     "output_type": "stream",
     "text": [
      "R-squared of this linear regression is -0.7047096580363759\n"
     ]
    },
    {
     "data": {
      "text/plain": [
       "Text(5, 280, 'y = -0.26*x + 305.31')"
      ]
     },
     "execution_count": 47,
     "metadata": {},
     "output_type": "execute_result"
    },
    {
     "data": {
      "image/png": "[encoded data removed]",
      "text/plain": [
       "<Figure size 432x288 with 1 Axes>"
      ]
     },
     "metadata": {
      "needs_background": "light"
     },
     "output_type": "display_data"
    }
   ],
   "source": [
    "northern_hemisphere = weather_df.loc[weather_df[\"Latitude\"] > 0, :]\n",
    "\n",
    "northern_temperature = northern_hemisphere[\"Temperature\"]\n",
    "northern_latitude = northern_hemisphere[\"Latitude\"]\n",
    "\n",
    "plt.scatter(northern_latitude, northern_temperature, marker = \"o\", facecolors = \"red\", edgecolors = \"black\")\n",
    "\n",
    "plt.title(\"Northern Hemisphere Max. Temp. vs. Latitude\")\n",
    "plt.ylabel(\"Max. Temperature (Kelvin)\")\n",
    "plt.xlabel(\"Latitude (degrees)\")\n",
    "\n",
    "from scipy.stats import linregress\n",
    "\n",
    "slope,intercept,rsquared,_,_ = linregress(northern_latitude, northern_temperature)\n",
    "prediction_line = slope*northern_latitude + intercept\n",
    "\n",
    "plt.plot(northern_latitude, prediction_line, \"k\")\n",
    "\n",
    "print(f\"R-squared of this linear regression is {rsquared}\")\n",
    "\n",
    "plt.text(5, 280, f\"y = {slope:.2f}*x + {intercept:.2f}\")"
   ]
  },
  {
   "cell_type": "markdown",
   "metadata": {},
   "source": [
    "####  Southern Hemisphere - Max Temp vs. Latitude Linear Regression"
   ]
  },
  {
   "cell_type": "code",
   "execution_count": 49,
   "metadata": {},
   "outputs": [
    {
     "name": "stdout",
     "output_type": "stream",
     "text": [
      "R-squared of this linear regression is 0.7961818339321669\n"
     ]
    },
    {
     "data": {
      "text/plain": [
       "Text(-55, 270, 'y = 0.54*x + 303.29')"
      ]
     },
     "execution_count": 49,
     "metadata": {},
     "output_type": "execute_result"
    },
    {
     "data": {
      "image/png": "[encoded data removed]",
      "text/plain": [
       "<Figure size 432x288 with 1 Axes>"
      ]
     },
     "metadata": {
      "needs_background": "light"
     },
     "output_type": "display_data"
    }
   ],
   "source": [
    "southern_hemisphere = weather_df.loc[weather_df[\"Latitude\"] < 0, :]\n",
    "\n",
    "southern_temperature = southern_hemisphere[\"Temperature\"]\n",
    "southern_latitude = southern_hemisphere[\"Latitude\"]\n",
    "\n",
    "plt.scatter(southern_latitude, southern_temperature, marker = \"o\", facecolors = \"red\", edgecolors = \"black\")\n",
    "\n",
    "plt.title(\"Southern Hemisphere Max. Temp. vs. Latitude\")\n",
    "plt.ylabel(\"Max. Temperature (Kelvin)\")\n",
    "plt.xlabel(\"Latitude (degrees)\")\n",
    "\n",
    "from scipy.stats import linregress\n",
    "\n",
    "slope,intercept,rsquared,_,_ = linregress(southern_latitude, southern_temperature)\n",
    "prediction_line = slope*southern_latitude + intercept\n",
    "\n",
    "plt.plot(southern_latitude, prediction_line, \"k\")\n",
    "\n",
    "print(f\"R-squared of this linear regression is {rsquared}\")\n",
    "\n",
    "plt.text(-55, 270, f\"y = {slope:.2f}*x + {intercept:.2f}\")"
   ]
  },
  {
   "cell_type": "markdown",
   "metadata": {},
   "source": [
    "####  Northern Hemisphere - Humidity (%) vs. Latitude Linear Regression"
   ]
  },
  {
   "cell_type": "code",
   "execution_count": 50,
   "metadata": {},
   "outputs": [
    {
     "name": "stdout",
     "output_type": "stream",
     "text": [
      "R-squared of this linear regression is 0.006504245645075662\n"
     ]
    },
    {
     "data": {
      "text/plain": [
       "Text(5, 15, 'y = 0.01*x + 70.06')"
      ]
     },
     "execution_count": 50,
     "metadata": {},
     "output_type": "execute_result"
    },
    {
     "data": {
      "image/png": "[encoded data removed]",
      "text/plain": [
       "<Figure size 432x288 with 1 Axes>"
      ]
     },
     "metadata": {
      "needs_background": "light"
     },
     "output_type": "display_data"
    }
   ],
   "source": [
    "northern_humidity = northern_hemisphere[\"Humidity\"]\n",
    "northern_latitude = northern_hemisphere[\"Latitude\"]\n",
    "\n",
    "plt.scatter(northern_latitude, northern_humidity, marker = \"o\", facecolors = \"red\", edgecolors = \"black\")\n",
    "\n",
    "plt.title(\"Northern Hemisphere Humidity % vs. Latitude\")\n",
    "plt.ylabel(\"Max. Humidity (%)\")\n",
    "plt.xlabel(\"Latitude (degrees)\")\n",
    "\n",
    "from scipy.stats import linregress\n",
    "\n",
    "slope,intercept,rsquared,_,_ = linregress(northern_latitude, northern_humidity)\n",
    "prediction_line = slope*northern_latitude + intercept\n",
    "\n",
    "plt.plot(northern_latitude, prediction_line, \"k\")\n",
    "\n",
    "print(f\"R-squared of this linear regression is {rsquared}\")\n",
    "\n",
    "plt.text(5, 15, f\"y = {slope:.2f}*x + {intercept:.2f}\")"
   ]
  },
  {
   "cell_type": "markdown",
   "metadata": {},
   "source": [
    "####  Southern Hemisphere - Humidity (%) vs. Latitude Linear Regression"
   ]
  },
  {
   "cell_type": "code",
   "execution_count": 51,
   "metadata": {},
   "outputs": [
    {
     "name": "stdout",
     "output_type": "stream",
     "text": [
      "R-squared of this linear regression is -0.19332050564510586\n"
     ]
    },
    {
     "data": {
      "text/plain": [
       "Text(-55, 15, 'y = -0.30*x + 60.49')"
      ]
     },
     "execution_count": 51,
     "metadata": {},
     "output_type": "execute_result"
    },
    {
     "data": {
      "image/png": "[encoded data removed]",
      "text/plain": [
       "<Figure size 432x288 with 1 Axes>"
      ]
     },
     "metadata": {
      "needs_background": "light"
     },
     "output_type": "display_data"
    }
   ],
   "source": [
    "southern_humidity = southern_hemisphere[\"Humidity\"]\n",
    "southern_latitude = southern_hemisphere[\"Latitude\"]\n",
    "\n",
    "plt.scatter(southern_latitude, southern_humidity, marker = \"o\", facecolors = \"red\", edgecolors = \"black\")\n",
    "\n",
    "plt.title(\"southern Hemisphere Humidity %. vs. Latitude\")\n",
    "plt.ylabel(\"Max. Humidity (%)\")\n",
    "plt.xlabel(\"Latitude (degrees)\")\n",
    "\n",
    "from scipy.stats import linregress\n",
    "\n",
    "slope,intercept,rsquared,_,_ = linregress(southern_latitude, southern_humidity)\n",
    "prediction_line = slope*southern_latitude + intercept\n",
    "\n",
    "plt.plot(southern_latitude, prediction_line, \"k\")\n",
    "\n",
    "print(f\"R-squared of this linear regression is {rsquared}\")\n",
    "\n",
    "plt.text(-55, 15, f\"y = {slope:.2f}*x + {intercept:.2f}\")"
   ]
  },
  {
   "cell_type": "markdown",
   "metadata": {},
   "source": [
    "####  Northern Hemisphere - Cloudiness (%) vs. Latitude Linear Regression"
   ]
  },
  {
   "cell_type": "code",
   "execution_count": 53,
   "metadata": {},
   "outputs": [
    {
     "name": "stdout",
     "output_type": "stream",
     "text": [
      "R-squared of this linear regression is -0.08885671554165711\n"
     ]
    },
    {
     "data": {
      "text/plain": [
       "Text(0, 25, 'y = -0.16*x + 61.92')"
      ]
     },
     "execution_count": 53,
     "metadata": {},
     "output_type": "execute_result"
    },
    {
     "data": {
      "image/png": "[encoded data removed]",
      "text/plain": [
       "<Figure size 432x288 with 1 Axes>"
      ]
     },
     "metadata": {
      "needs_background": "light"
     },
     "output_type": "display_data"
    }
   ],
   "source": [
    "northern_clouds = northern_hemisphere[\"Clouds\"]\n",
    "northern_latitude = northern_hemisphere[\"Latitude\"]\n",
    "\n",
    "plt.scatter(northern_latitude, northern_clouds, marker = \"o\", facecolors = \"red\", edgecolors = \"black\")\n",
    "\n",
    "plt.title(\"Northern Hemisphere Cloudiness %. vs. Latitude\")\n",
    "plt.ylabel(\"Max. clouds (%)\")\n",
    "plt.xlabel(\"Latitude (degrees)\")\n",
    "\n",
    "from scipy.stats import linregress\n",
    "\n",
    "slope,intercept,rsquared,_,_ = linregress(northern_latitude, northern_clouds)\n",
    "prediction_line = slope*northern_latitude + intercept\n",
    "\n",
    "plt.plot(northern_latitude, prediction_line, \"k\")\n",
    "\n",
    "print(f\"R-squared of this linear regression is {rsquared}\")\n",
    "\n",
    "plt.text(0, 25, f\"y = {slope:.2f}*x + {intercept:.2f}\")"
   ]
  },
  {
   "cell_type": "markdown",
   "metadata": {},
   "source": [
    "####  Southern Hemisphere - Cloudiness (%) vs. Latitude Linear Regression"
   ]
  },
  {
   "cell_type": "code",
   "execution_count": 54,
   "metadata": {},
   "outputs": [
    {
     "name": "stdout",
     "output_type": "stream",
     "text": [
      "R-squared of this linear regression is -0.08885671554165711\n"
     ]
    },
    {
     "data": {
      "text/plain": [
       "Text(-55, 10, 'y = 0.10*x + 47.52')"
      ]
     },
     "execution_count": 54,
     "metadata": {},
     "output_type": "execute_result"
    },
    {
     "data": {
      "image/png": "[encoded data removed]",
      "text/plain": [
       "<Figure size 432x288 with 1 Axes>"
      ]
     },
     "metadata": {
      "needs_background": "light"
     },
     "output_type": "display_data"
    }
   ],
   "source": [
    "southern_clouds = southern_hemisphere[\"Clouds\"]\n",
    "southern_latitude = southern_hemisphere[\"Latitude\"]\n",
    "\n",
    "plt.scatter(southern_latitude, southern_clouds, marker = \"o\", facecolors = \"red\", edgecolors = \"black\")\n",
    "\n",
    "plt.title(\"southern Hemisphere Cloudiness % vs. Latitude\")\n",
    "plt.ylabel(\"Max. clouds (%)\")\n",
    "plt.xlabel(\"Latitude (degrees)\")\n",
    "\n",
    "from scipy.stats import linregress\n",
    "\n",
    "slope,intercept,_,_,_ = linregress(southern_latitude, southern_clouds)\n",
    "prediction_line = slope*southern_latitude + intercept\n",
    "\n",
    "plt.plot(southern_latitude, prediction_line, \"k\")\n",
    "\n",
    "print(f\"R-squared of this linear regression is {rsquared}\")\n",
    "\n",
    "plt.text(-55, 10, f\"y = {slope:.2f}*x + {intercept:.2f}\")"
   ]
  },
  {
   "cell_type": "markdown",
   "metadata": {},
   "source": [
    "####  Northern Hemisphere - Wind Speed (mph) vs. Latitude Linear Regression"
   ]
  },
  {
   "cell_type": "code",
   "execution_count": 55,
   "metadata": {},
   "outputs": [
    {
     "name": "stdout",
     "output_type": "stream",
     "text": [
      "R-squared of this linear regression is -0.014995460395768894\n"
     ]
    },
    {
     "data": {
      "text/plain": [
       "Text(5, 12, 'y = -0.00*x + 3.57')"
      ]
     },
     "execution_count": 55,
     "metadata": {},
     "output_type": "execute_result"
    },
    {
     "data": {
      "image/png": "[encoded data removed]",
      "text/plain": [
       "<Figure size 432x288 with 1 Axes>"
      ]
     },
     "metadata": {
      "needs_background": "light"
     },
     "output_type": "display_data"
    }
   ],
   "source": [
    "northern_wind = northern_hemisphere[\"Wind\"]\n",
    "northern_latitude = northern_hemisphere[\"Latitude\"]\n",
    "\n",
    "plt.scatter(northern_latitude, northern_wind, marker = \"o\", facecolors = \"red\", edgecolors = \"black\")\n",
    "\n",
    "plt.title(\"northern Hemisphere Wind Speed vs. Latitude\")\n",
    "plt.ylabel(\"Max. Wind (mph)\")\n",
    "plt.xlabel(\"Latitude (degrees)\")\n",
    "\n",
    "from scipy.stats import linregress\n",
    "\n",
    "slope,intercept,rsquared,_,_ = linregress(northern_latitude, northern_wind)\n",
    "prediction_line = slope*northern_latitude + intercept\n",
    "\n",
    "plt.plot(northern_latitude, prediction_line, \"k\")\n",
    "\n",
    "print(f\"R-squared of this linear regression is {rsquared}\")\n",
    "\n",
    "plt.text(5, 12, f\"y = {slope:.2f}*x + {intercept:.2f}\")"
   ]
  },
  {
   "cell_type": "markdown",
   "metadata": {},
   "source": [
    "####  Southern Hemisphere - Wind Speed (mph) vs. Latitude Linear Regression"
   ]
  },
  {
   "cell_type": "code",
   "execution_count": 56,
   "metadata": {},
   "outputs": [
    {
     "name": "stdout",
     "output_type": "stream",
     "text": [
      "R-squared of this linear regression is 0.16327402119382278\n"
     ]
    },
    {
     "data": {
      "text/plain": [
       "Text(-55, 0, 'y = 0.03*x + 4.14')"
      ]
     },
     "execution_count": 56,
     "metadata": {},
     "output_type": "execute_result"
    },
    {
     "data": {
      "image/png": "[encoded data removed]",
      "text/plain": [
       "<Figure size 432x288 with 1 Axes>"
      ]
     },
     "metadata": {
      "needs_background": "light"
     },
     "output_type": "display_data"
    }
   ],
   "source": [
    "southern_wind = southern_hemisphere[\"Wind\"]\n",
    "southern_latitude = southern_hemisphere[\"Latitude\"]\n",
    "\n",
    "plt.scatter(southern_latitude, southern_wind, marker = \"o\", facecolors = \"red\", edgecolors = \"black\")\n",
    "\n",
    "plt.title(\"southern Hemisphere Wind Speed vs. Latitude\")\n",
    "plt.ylabel(\"Max. Wind (mph)\")\n",
    "plt.xlabel(\"Latitude (degrees)\")\n",
    "\n",
    "from scipy.stats import linregress\n",
    "\n",
    "slope,intercept,rsquared,_,_ = linregress(southern_latitude, southern_wind)\n",
    "prediction_line = slope*southern_latitude + intercept\n",
    "\n",
    "plt.plot(southern_latitude, prediction_line, \"k\")\n",
    "\n",
    "print(f\"R-squared of this linear regression is {rsquared}\")\n",
    "\n",
    "plt.text(-55, 0, f\"y = {slope:.2f}*x + {intercept:.2f}\")"
   ]
  }
 ],
 "metadata": {
  "anaconda-cloud": {},
  "kernel_info": {
   "name": "python3"
  },
  "kernelspec": {
   "display_name": "Python 3",
   "language": "python",
   "name": "python3"
  },
  "language_info": {
   "codemirror_mode": {
    "name": "ipython",
    "version": 3
   },
   "file_extension": ".py",
   "mimetype": "text/x-python",
   "name": "python",
   "nbconvert_exporter": "python",
   "pygments_lexer": "ipython3",
   "version": "3.6.10"
  },
  "latex_envs": {
   "LaTeX_envs_menu_present": true,
   "autoclose": false,
   "autocomplete": true,
   "bibliofile": "biblio.bib",
   "cite_by": "apalike",
   "current_citInitial": 1,
   "eqLabelWithNumbers": true,
   "eqNumInitial": 1,
   "hotkeys": {
    "equation": "Ctrl-E",
    "itemize": "Ctrl-I"
   },
   "labels_anchors": false,
   "latex_user_defs": false,
   "report_style_numbering": false,
   "user_envs_cfg": false
  },
  "nteract": {
   "version": "0.12.3"
  }
 },
 "nbformat": 4,
 "nbformat_minor": 2
}
